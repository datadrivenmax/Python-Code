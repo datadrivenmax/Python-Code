{
 "cells": [
  {
   "cell_type": "code",
   "execution_count": 1,
   "id": "c3342a84",
   "metadata": {},
   "outputs": [],
   "source": [
    "\n",
    "def add(x, y):\n",
    "    \"\"\"Add Function\"\"\"\n",
    "    return x + y\n",
    "\n",
    "\n",
    "def subtract(x, y):\n",
    "    \"\"\"Subtract Function\"\"\"\n",
    "    return x - y\n",
    "\n",
    "\n",
    "def multiply(x, y):\n",
    "    \"\"\"Multiply Function\"\"\"\n",
    "    return x * y\n",
    "\n",
    "\n",
    "def divide(x, y):\n",
    "    \"\"\"Divide Function\"\"\"\n",
    "    if y == 0:\n",
    "        raise ValueError('Can not divide by zero!')\n",
    "    return x / y"
   ]
  },
  {
   "cell_type": "code",
   "execution_count": 3,
   "id": "371338bc",
   "metadata": {},
   "outputs": [],
   "source": [
    "# unittesting"
   ]
  },
  {
   "cell_type": "code",
   "execution_count": 4,
   "id": "53029fba",
   "metadata": {},
   "outputs": [],
   "source": [
    "import unittest"
   ]
  },
  {
   "cell_type": "code",
   "execution_count": null,
   "id": "52db9f11",
   "metadata": {},
   "outputs": [],
   "source": [
    "class TestCalc(unittest.TestCase):\n",
    "    \n",
    "    def test_add(self):\n",
    "        \n",
    "        "
   ]
  }
 ],
 "metadata": {
  "kernelspec": {
   "display_name": "Python 3",
   "language": "python",
   "name": "python3"
  },
  "language_info": {
   "codemirror_mode": {
    "name": "ipython",
    "version": 3
   },
   "file_extension": ".py",
   "mimetype": "text/x-python",
   "name": "python",
   "nbconvert_exporter": "python",
   "pygments_lexer": "ipython3",
   "version": "3.8.8"
  }
 },
 "nbformat": 4,
 "nbformat_minor": 5
}
